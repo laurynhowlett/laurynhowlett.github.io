{
  "cells": [
    {
      "cell_type": "raw",
      "metadata": {},
      "source": [
        "---\n",
        "title: \"My Projects\"\n",
        "---"
      ],
      "id": "3b320c2d"
    },
    {
      "cell_type": "markdown",
      "metadata": {},
      "source": [
        "# Poudre Valley Community Farms - Flores del Sol Bird and Soil Monitoring Protocols\n",
        "\n",
        "[View the story map here](https://arcg.is/1Sfnb00){style=\"color: green\"}\n",
        "\n",
        "Worked collaboratively with peers and the stakeholder, Poudre Valley Community Farms, to establish a monitoring protocol to measure the impact of Conservation Agriculture farming practices on soil health,\n",
        "water use, and bird populations over time.\n",
        "\n",
        "# **Correlating Trends of Silica Concentrations within a Subalpine Watershed Using Long Term Data**\n",
        "\n",
        "\n",
        "```{httml}\n",
        "\n",
        "[Download PDF](/Users/lauryn/Desktop/git/laurynhowlett.github.io)\n",
        "\n",
        "```"
      ],
      "id": "070e884e"
    }
  ],
  "metadata": {
    "kernelspec": {
      "display_name": "Python 3",
      "language": "python",
      "name": "python3"
    }
  },
  "nbformat": 4,
  "nbformat_minor": 5
}